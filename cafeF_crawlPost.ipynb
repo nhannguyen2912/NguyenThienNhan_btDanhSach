{
  "cells": [
    {
      "cell_type": "markdown",
      "metadata": {
        "id": "view-in-github",
        "colab_type": "text"
      },
      "source": [
        "<a href=\"https://colab.research.google.com/github/nhannguyen2912/NguyenThienNhan_btDanhSach/blob/main/cafeF_crawlPost.ipynb\" target=\"_parent\"><img src=\"https://colab.research.google.com/assets/colab-badge.svg\" alt=\"Open In Colab\"/></a>"
      ]
    },
    {
      "cell_type": "code",
      "source": [
        "!pip install requests\n",
        "!pip install BeautifulSoup4\n",
        "!pip install urlopen"
      ],
      "metadata": {
        "colab": {
          "base_uri": "https://localhost:8080/"
        },
        "id": "eNUPC3juIw5c",
        "outputId": "19488029-8a5f-4f64-a77d-1e2a3e1d3bfe"
      },
      "execution_count": 1,
      "outputs": [
        {
          "output_type": "stream",
          "name": "stdout",
          "text": [
            "Requirement already satisfied: requests in /usr/local/lib/python3.10/dist-packages (2.32.3)\n",
            "Requirement already satisfied: charset-normalizer<4,>=2 in /usr/local/lib/python3.10/dist-packages (from requests) (3.3.2)\n",
            "Requirement already satisfied: idna<4,>=2.5 in /usr/local/lib/python3.10/dist-packages (from requests) (3.10)\n",
            "Requirement already satisfied: urllib3<3,>=1.21.1 in /usr/local/lib/python3.10/dist-packages (from requests) (2.2.3)\n",
            "Requirement already satisfied: certifi>=2017.4.17 in /usr/local/lib/python3.10/dist-packages (from requests) (2024.8.30)\n",
            "Requirement already satisfied: BeautifulSoup4 in /usr/local/lib/python3.10/dist-packages (4.12.3)\n",
            "Requirement already satisfied: soupsieve>1.2 in /usr/local/lib/python3.10/dist-packages (from BeautifulSoup4) (2.6)\n",
            "Collecting urlopen\n",
            "  Downloading urlopen-1.0.0.zip (2.1 kB)\n",
            "  Preparing metadata (setup.py) ... \u001b[?25l\u001b[?25hdone\n",
            "Building wheels for collected packages: urlopen\n",
            "  Building wheel for urlopen (setup.py) ... \u001b[?25l\u001b[?25hdone\n",
            "  Created wheel for urlopen: filename=urlopen-1.0.0-py3-none-any.whl size=1383 sha256=a7b87f3cc1c394398d26e81b3e5b7bb98147de5be13db95e0c26d5af24b566cc\n",
            "  Stored in directory: /root/.cache/pip/wheels/6c/48/27/6bdee97affb7718f3ad2215a99a8066a0e40e07000e0afda54\n",
            "Successfully built urlopen\n",
            "Installing collected packages: urlopen\n",
            "Successfully installed urlopen-1.0.0\n"
          ]
        }
      ]
    },
    {
      "cell_type": "code",
      "execution_count": null,
      "metadata": {
        "id": "gbldN3xoH991"
      },
      "outputs": [],
      "source": [
        "import requests\n",
        "from bs4 import BeautifulSoup\n",
        "from urllib.request import urlopen\n",
        "import json\n",
        "import time"
      ]
    },
    {
      "cell_type": "markdown",
      "metadata": {
        "id": "edEdWoA3H992"
      },
      "source": [
        "1. Crawl multi posts in category"
      ]
    },
    {
      "cell_type": "code",
      "execution_count": null,
      "metadata": {
        "id": "lpEo9JB4H993"
      },
      "outputs": [],
      "source": [
        "# URL\n",
        "urlCategory = 'https://cafef.vn/tai-chinh-quoc-te.chn'\n",
        "urlTarget = 'https://cafef.vn'\n"
      ]
    },
    {
      "cell_type": "markdown",
      "metadata": {
        "id": "_NAJ75r3H993"
      },
      "source": [
        "<!-- Crawl post -->"
      ]
    },
    {
      "cell_type": "code",
      "execution_count": null,
      "metadata": {
        "id": "hgIYp2EMH993",
        "outputId": "fdda86f1-7cae-4a76-9ee6-62f223c0ae05"
      },
      "outputs": [
        {
          "name": "stdout",
          "output_type": "stream",
          "text": [
            "['/', 'http://liveboard.cafef.vn', 'https://s.cafef.vn/danh-muc-dau-tu.chn', '/doc-nhanh.chn', '/', '/xa-hoi.chn', '/thi-truong-chung-khoan.chn', '/bat-dong-san.chn', '/doanh-nghiep.chn', '/tai-chinh-ngan-hang.chn', '/smart-money.chn', '/tai-chinh-quoc-te.chn', '/vi-mo-dau-tu.chn', '/kinh-te-so.chn', '/thi-truong.chn', '/song.chn', '/lifestyle.chn', 'javascript:;', '/xa-hoi.chn', '/doanh-nghiep.chn', '/vi-mo-dau-tu.chn', '/thi-truong-chung-khoan.chn', '/tai-chinh-ngan-hang.chn', '/tai-chinh-quoc-te.chn', '/bat-dong-san.chn', '/du-an.chn', '/ban-do-du-an.chn', '/hang-hoa-nguyen-lieu.chn', '/song.chn', '/lifestyle.chn', '/nhom-chu-de/emagazine.chn', 'https://s.cafef.vn/du-lieu.chn', 'https://s.cafef.vn/cafeflists.chn', '/tai-chinh-quoc-te.chn', '/ngan-hang-the-gioi-mac-cac-bien-phap-kich-thich-kinh-te-tang-truong-cua-trung-quoc-se-cham-lai-trong-nam-toi-188241008163216554.chn', '/ngan-hang-the-gioi-mac-cac-bien-phap-kich-thich-kinh-te-tang-truong-cua-trung-quoc-se-cham-lai-trong-nam-toi-188241008163216554.chn', '/nam-giu-loi-the-bat-tat-voi-mat-hang-quan-trong-cua-quoc-gia-chau-au-chuyen-gia-nhan-dinh-trung-quoc-co-the-tac-dong-truc-tiep-den-cac-thoa-thuan-thuong-mai-tu-do-voi-eu-188241008142254755.chn', '/nam-giu-loi-the-bat-tat-voi-mat-hang-quan-trong-cua-quoc-gia-chau-au-chuyen-gia-nhan-dinh-trung-quoc-co-the-tac-dong-truc-tiep-den-cac-thoa-thuan-thuong-mai-tu-do-voi-eu-188241008142254755.chn', '/chung-khoan-chau-a-chim-trong-sac-do-hang-seng-co-thoi-diem-giam-hon-10-dieu-gi-khien-nha-dau-tu-quay-xe-188241008141525063.chn', '/chung-khoan-chau-a-chim-trong-sac-do-hang-seng-co-thoi-diem-giam-hon-10-dieu-gi-khien-nha-dau-tu-quay-xe-188241008141525063.chn', '/bi-an-y-hoc-trai-tim-duoc-hien-tang-mach-bao-chu-nhan-moi-tim-ve-nha-chu-nhan-cu-du-danh-tinh-hai-ben-da-bi-giau-kin-188241006201209995.chn', '/trung-quoc-xay-dung-he-thong-sieu-dap-thuy-dien-o-noi-khac-nghiet-nhat-hanh-tinh-rieng-1-dap-da-cao-bang-toa-nha-96-tang-du-dinh-hoan-thien-hon-10-dap-tren-1-con-song-188241007091109147.chn', '/chuyen-gia-dan-dau-trong-no-luc-phi-do-la-hoa-nhung-quoc-gia-chu-chot-cua-brics-lai-khong-co-lua-chon-nao-ngoai-tim-den-usd-188241006001924111.chn', '/ukraine-nhan-duoc-mon-qua-bat-ngo-tu-nga-188241006164906254.chn', '/mua-gan-het-luong-dau-xuat-khau-cua-nuoc-thanh-vien-opec-trung-quoc-se-xoay-so-ra-sao-khi-tru-cot-cua-nha-cung-cap-bi-my-bat-den-xanh-cho-dong-minh-tan-cong-18824100711121231.chn', '/dao-dat-nhom-cong-nhan-phat-hien-19-chiec-binh-chua-kho-bau-quy-gia-188241008064357179.chn', '/elon-musk-sap-thay-doi-hoan-toan-tuong-lai-tesla-dua-ra-tuyen-bo-quan-trong-co-the-ghi-vao-lich-su-188241008090042901.chn', '/ten-lua-doc-nhat-vo-nhi-cua-nga-duoc-tim-thay-tai-hien-truong-vu-roi-s-70-okhotnik-188241007193041513.chn', '/nga-cuu-dieu-tra-vien-linh-an-16-nam-tu-vi-nhan-so-tien-hoi-lo-lon-188241009071303751.chn', '/nga-cuu-dieu-tra-vien-linh-an-16-nam-tu-vi-nhan-so-tien-hoi-lo-lon-188241009071303751.chn', '/nguoi-my-di-tan-do-day-bao-cat-doi-pho-con-bao-manh-nhat-hanh-tinh-trong-nam-188241009065901699.chn', '/nguoi-my-di-tan-do-day-bao-cat-doi-pho-con-bao-manh-nhat-hanh-tinh-trong-nam-188241009065901699.chn', '/mo-mot-phien-da-2-ty-nam-tuoi-o-chau-phi-cac-nha-khoa-hoc-tim-thay-quan-the-sinh-vat-co-dai-van-dang-con-song-188241008193053381.chn', '/mo-mot-phien-da-2-ty-nam-tuoi-o-chau-phi-cac-nha-khoa-hoc-tim-thay-quan-the-sinh-vat-co-dai-van-dang-con-song-188241008193053381.chn', '/10-quoc-gia-co-du-tru-vang-lon-nhat-the-gioi-188241008211833454.chn', '/10-quoc-gia-co-du-tru-vang-lon-nhat-the-gioi-188241008211833454.chn', '/tuyen-duong-sat-cao-toc-bi-an-nhat-trung-quoc-luon-khoi-hanh-dung-gio-nhung-khong-bao-gio-tro-khach-hay-hang-hoa-18824100819273797.chn', '/tuyen-duong-sat-cao-toc-bi-an-nhat-trung-quoc-luon-khoi-hanh-dung-gio-nhung-khong-bao-gio-tro-khach-hay-hang-hoa-18824100819273797.chn', '/tu-lang-dai-gia-nho-nghe-livestream-hoa-thi-tran-ma-nguoi-dan-bo-nha-di-noi-khac-song-boi-cach-hoat-dong-cha-chung-khong-ai-khoc-khien-ai-cung-e-hang-188241008192502465.chn', '/tu-lang-dai-gia-nho-nghe-livestream-hoa-thi-tran-ma-nguoi-dan-bo-nha-di-noi-khac-song-boi-cach-hoat-dong-cha-chung-khong-ai-khoc-khien-ai-cung-e-hang-188241008192502465.chn', '/day-la-tat-ca-nhung-gi-can-biet-ve-milton-sieu-bao-dang-khien-my-nin-tho-voi-qua-nhieu-du-bao-kinh-hoang-188241008191816055.chn', '/day-la-tat-ca-nhung-gi-can-biet-ve-milton-sieu-bao-dang-khien-my-nin-tho-voi-qua-nhieu-du-bao-kinh-hoang-188241008191816055.chn', '/hang-hoa-nguyen-lieu.chn', '/vo-bo-nha-di-chong-mua-ve-so-giai-sau-roi-bo-quen-trong-tui-suot-20-ngay-luc-biet-tin-trung-doc-dac-52-ty-lien-goi-vo-ve-lap-loi-the-doc-188241008191515934.chn', '/vo-bo-nha-di-chong-mua-ve-so-giai-sau-roi-bo-quen-trong-tui-suot-20-ngay-luc-biet-tin-trung-doc-dac-52-ty-lien-goi-vo-ve-lap-loi-the-doc-188241008191515934.chn', '/1-nuoc-xe-thoa-thuan-chan-trang-bi-nga-roi-gui-thang-ukraine-nga-canh-cao-nong-he-lo-thu-ve-tay-kiev-188241008133437227.chn', '/1-nuoc-xe-thoa-thuan-chan-trang-bi-nga-roi-gui-thang-ukraine-nga-canh-cao-nong-he-lo-thu-ve-tay-kiev-188241008133437227.chn', '/chan-dung-temu-de-che-tmdt-ty-usd-moi-vao-viet-nam-startup-2-nam-tuoi-lam-khuynh-dao-nuoc-my-khien-amazon-lao-dao-nho-chien-thuat-dua-ngua-188241008155410572.chn', '/chan-dung-temu-de-che-tmdt-ty-usd-moi-vao-viet-nam-startup-2-nam-tuoi-lam-khuynh-dao-nuoc-my-khien-amazon-lao-dao-nho-chien-thuat-dua-ngua-188241008155410572.chn', '/cuba-chinh-thuc-de-nghi-gia-nhap-brics-188241008144834456.chn', '/cuba-chinh-thuc-de-nghi-gia-nhap-brics-188241008144834456.chn', '/chuyen-gi-day-pho-chu-tich-samsung-bat-ngo-xin-loi-188241008145154272.chn', '/chuyen-gi-day-pho-chu-tich-samsung-bat-ngo-xin-loi-188241008145154272.chn', '/tien-tri-dang-so-cua-nostradamus-cho-nam-2025-goi-ten-2-van-de-nhuc-nhoi-hang-ty-nguoi-phai-doi-mat-188241008140814973.chn', '/tien-tri-dang-so-cua-nostradamus-cho-nam-2025-goi-ten-2-van-de-nhuc-nhoi-hang-ty-nguoi-phai-doi-mat-188241008140814973.chn', '/tu-tho-moc-hoa-trieu-phu-do-la-sau-2-nam-dau-tu-mot-co-phieu-nguoi-dan-ong-chet-dieng-khi-mat-trang-tai-san-lap-tuc-kien-doi-ngu-co-van-188241008135000589.chn', '/tu-tho-moc-hoa-trieu-phu-do-la-sau-2-nam-dau-tu-mot-co-phieu-nguoi-dan-ong-chet-dieng-khi-mat-trang-tai-san-lap-tuc-kien-doi-ngu-co-van-188241008135000589.chn', '/lanh-dao-hamas-tai-xuat-sau-tin-don-da-chet-188241008135204876.chn', '/lanh-dao-hamas-tai-xuat-sau-tin-don-da-chet-188241008135204876.chn', '/trung-quoc-cong-bo-them-goi-kich-thich-kinh-te-moi-nha-dau-tu-van-chua-thoa-man-188241008134147552.chn', '/trung-quoc-cong-bo-them-goi-kich-thich-kinh-te-moi-nha-dau-tu-van-chua-thoa-man-188241008134147552.chn', '/doi-mat-cac-ung-vien-tong-thong-my-cung-ran-trung-quoc-len-ke-hoach-canh-tranh-giua-hai-ga-khong-lo-188241008134035661.chn', '/doi-mat-cac-ung-vien-tong-thong-my-cung-ran-trung-quoc-len-ke-hoach-canh-tranh-giua-hai-ga-khong-lo-188241008134035661.chn', '/my-sieu-bao-tiep-tuc-tan-cong-bang-florida-duong-cao-toc-chat-kin-nguoi-di-tan-188241008132643386.chn', '/my-sieu-bao-tiep-tuc-tan-cong-bang-florida-duong-cao-toc-chat-kin-nguoi-di-tan-188241008132643386.chn', '/nganh-sua-trung-quoc-lao-dao-nong-dan-do-bo-san-pham-gia-sua-rot-the-tham-phan-lon-trang-trai-thua-lo-188241008110427043.chn', '/nganh-sua-trung-quoc-lao-dao-nong-dan-do-bo-san-pham-gia-sua-rot-the-tham-phan-lon-trang-trai-thua-lo-188241008110427043.chn', '/bong-bong-tmdt-vo-tung-tai-trung-quoc-chu-doanh-nghiep-chi-mong-song-sot-cac-nen-tang-truc-tuyen-tranh-nhau-ha-gia-den-cung-kiet-188241008101903517.chn', '/bong-bong-tmdt-vo-tung-tai-trung-quoc-chu-doanh-nghiep-chi-mong-song-sot-cac-nen-tang-truc-tuyen-tranh-nhau-ha-gia-den-cung-kiet-188241008101903517.chn', '/su-kien/chuyen-cua-fed-848.chn', '/thi-truong-nin-tho-cho-cuoc-hop-chinh-sach-cua-fed-trong-tuan-nay-cau-hoi-gay-tranh-cai-ve-quyet-dinh-cat-giam-lai-suat-se-som-sang-to-188240916083244965.chn', '/thi-truong-nin-tho-cho-cuoc-hop-chinh-sach-cua-fed-trong-tuan-nay-cau-hoi-gay-tranh-cai-ve-quyet-dinh-cat-giam-lai-suat-se-som-sang-to-188240916083244965.chn', '/quan-chuc-fed-bac-bo-kha-nang-suy-thoai-du-bao-cat-giam-lai-suat-vao-cuoi-nam-188240814145038198.chn', '/quan-chuc-fed-bac-bo-kha-nang-suy-thoai-du-bao-cat-giam-lai-suat-vao-cuoi-nam-188240814145038198.chn', '/fed-se-khong-cat-giam-lai-suat-khan-cap-5-chuyen-gia-thi-truong-dong-loat-len-tieng-phan-tich-giua-don-doan-188240808141423575.chn', '/fed-se-khong-cat-giam-lai-suat-khan-cap-5-chuyen-gia-thi-truong-dong-loat-len-tieng-phan-tich-giua-don-doan-188240808141423575.chn', '/so-lieu-viec-lam-my-thang-7-thap-bat-ngo-ty-le-that-nghiep-dat-dinh-gan-3-nam-chung-khoan-lap-tuc-giam-fed-lieu-co-cham-chan-trong-quyet-dinh-cat-giam-lai-suat-188240802203556321.chn', '/so-lieu-viec-lam-my-thang-7-thap-bat-ngo-ty-le-that-nghiep-dat-dinh-gan-3-nam-chung-khoan-lap-tuc-giam-fed-lieu-co-cham-chan-trong-quyet-dinh-cat-giam-lai-suat-188240802203556321.chn', '/su-kien/chuyen-dong-thi-truong-849.chn', '/thi-truong-toan-cau-giat-thot-khi-cang-thang-trung-dong-leo-thang-chung-khoan-chim-trong-sac-do-gia-dau-bat-tang-188241002092216932.chn', '/thi-truong-toan-cau-giat-thot-khi-cang-thang-trung-dong-leo-thang-chung-khoan-chim-trong-sac-do-gia-dau-bat-tang-188241002092216932.chn', '/chung-khoan-my-tang-ky-luc-sau-khi-chu-tich-fed-jerome-powell-len-tieng-ve-nen-kinh-te-va-lai-suat-188241001092659166.chn', '/chung-khoan-my-tang-ky-luc-sau-khi-chu-tich-fed-jerome-powell-len-tieng-ve-nen-kinh-te-va-lai-suat-188241001092659166.chn', '/chung-khoan-my-tiep-tuc-lap-dinh-chua-tung-co-trader-ky-vong-da-tang-con-keo-dai-sau-khi-fed-cat-giam-lai-suat-188240924093549533.chn', '/chung-khoan-my-tiep-tuc-lap-dinh-chua-tung-co-trader-ky-vong-da-tang-con-keo-dai-sau-khi-fed-cat-giam-lai-suat-188240924093549533.chn', '/dow-jones-dat-muc-cao-nhat-moi-thoi-dai-sp-500-tang-sat-dinh-lich-su-truoc-cuoc-hop-chinh-sach-cua-fed-188240917090502936.chn', '/dow-jones-dat-muc-cao-nhat-moi-thoi-dai-sp-500-tang-sat-dinh-lich-su-truoc-cuoc-hop-chinh-sach-cua-fed-188240917090502936.chn', '/su-kien/ngon-ngu-cua-dong-tien-851.chn', '/nen-kinh-te-tang-truong-nhanh-nhat-the-gioi-dang-tao-ra-mot-thi-truong-chung-khoan-hap-dan-chua-tung-co-chuyen-gia-nhan-dinh-day-la-co-hoi-dau-tu-co-1-0-2-188240617151632392.chn', '/nen-kinh-te-tang-truong-nhanh-nhat-the-gioi-dang-tao-ra-mot-thi-truong-chung-khoan-hap-dan-chua-tung-co-chuyen-gia-nhan-dinh-day-la-co-hoi-dau-tu-co-1-0-2-188240617151632392.chn', '/mot-khi-fed-cat-giam-lai-suat-ky-nguyen-nham-mat-dau-tu-cung-co-lai-5-se-cham-dut-188240324083836727.chn', '/mot-khi-fed-cat-giam-lai-suat-ky-nguyen-nham-mat-dau-tu-cung-co-lai-5-se-cham-dut-188240324083836727.chn', '/nguoi-dan-tai-quoc-gia-nay-dang-thay-doi-chien-luoc-de-chong-lai-lam-phat-len-toi-gan-280-goi-ten-mot-tai-san-dang-duoc-ca-the-gioi-chu-y-188240320213901819.chn', '/nguoi-dan-tai-quoc-gia-nay-dang-thay-doi-chien-luoc-de-chong-lai-lam-phat-len-toi-gan-280-goi-ten-mot-tai-san-dang-duoc-ca-the-gioi-chu-y-188240320213901819.chn', '/bitcoin-mot-lan-nua-the-hien-truyen-thong-sieu-bien-dong-gia-len-xuong-nhu-tau-luon-sieu-toc-188240317105107918.chn', '/bitcoin-mot-lan-nua-the-hien-truyen-thong-sieu-bien-dong-gia-len-xuong-nhu-tau-luon-sieu-toc-188240317105107918.chn', 'javascript:;', '/', '/xa-hoi.chn', '/thi-truong-chung-khoan.chn', '/bat-dong-san.chn', '/doanh-nghiep.chn', '/tai-chinh-ngan-hang.chn', '/tai-chinh-quoc-te.chn', '/vi-mo-dau-tu.chn', '/kinh-te-so.chn', '/thi-truong.chn', '/song.chn', '/lifestyle.chn', 'https://s.cafef.vn/du-lieu.chn', 'https://s.cafef.vn/top/ceo.chn', 'https://www.messenger.com/t/108804609142280', 'http://www.vccorp.vn/', '/static/chinh-sach-bao-mat.html', None, None, None, None, None, None, None, None, None, None, None, None, None, None, None, None, None, None, None, None, None, None]\n"
          ]
        }
      ],
      "source": [
        "def crawlURLPosts():\n",
        "    response = requests.get(urlCategory)\n",
        "    soup = BeautifulSoup(response.content, \"html.parser\");\n",
        "    if response.status_code == 200:\n",
        "    # noibat-cate\n",
        "        noibatCate = []\n",
        "        listFocusMain = soup.find_all(\"a\")\n",
        "        for listFocusPost in listFocusMain:\n",
        "            noibatCate.append(listFocusPost.get(\"href\"))\n",
        "        # Get LoadMostViewTop\n",
        "        listMostView = soup.find_all(\"h3\")\n",
        "        for listMostViewPost in listMostView:\n",
        "            noibatCate.append(listMostViewPost.get(\"href\"))\n",
        "        print(noibatCate)\n",
        "\n",
        "    # list-main\n",
        "        # list-main = []\n",
        "crawlURLPosts()"
      ]
    },
    {
      "cell_type": "code",
      "execution_count": null,
      "metadata": {
        "id": "z0t26PfeH994"
      },
      "outputs": [],
      "source": [
        "import numpy as np\n"
      ]
    }
  ],
  "metadata": {
    "kernelspec": {
      "display_name": "Python 3",
      "language": "python",
      "name": "python3"
    },
    "language_info": {
      "codemirror_mode": {
        "name": "ipython",
        "version": 3
      },
      "file_extension": ".py",
      "mimetype": "text/x-python",
      "name": "python",
      "nbconvert_exporter": "python",
      "pygments_lexer": "ipython3",
      "version": "3.11.9"
    },
    "colab": {
      "provenance": [],
      "include_colab_link": true
    }
  },
  "nbformat": 4,
  "nbformat_minor": 0
}